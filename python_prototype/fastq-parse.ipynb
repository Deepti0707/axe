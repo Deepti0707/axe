{
 "metadata": {
  "name": "",
  "signature": "sha256:75f3ef5abaa0078f641ba61e90980a702e76b7cc978aed168181d88abf2abc04"
 },
 "nbformat": 3,
 "nbformat_minor": 0,
 "worksheets": [
  {
   "cells": [
    {
     "cell_type": "code",
     "collapsed": false,
     "input": [
      "from itertools import izip\n",
      "def iter_fastq_seq(fn):\n",
      "    with open(fn) as fh:\n",
      "        for h, s, _, q in izip(fh, fh, fh, fh):\n",
      "            yield s\n",
      "\n",
      "def iter_fasta_seq1(fn):\n",
      "    with open(fn) as fh:\n",
      "        for h, s in izip(fh, fh):\n",
      "            yield s"
     ],
     "language": "python",
     "metadata": {},
     "outputs": [],
     "prompt_number": 8
    },
    {
     "cell_type": "code",
     "collapsed": false,
     "input": [
      "fa = \"../../bio/fastDBarcode/test/data/large_bcd.fasta\"\n",
      "list(iter_fasta_seq1(fa))\n"
     ],
     "language": "python",
     "metadata": {},
     "outputs": [
      {
       "metadata": {},
       "output_type": "pyout",
       "prompt_number": 11,
       "text": [
        "['ACTTCA\\n',\n",
        " 'ACGGAA\\n',\n",
        " 'ACTTCAGGACGT\\n',\n",
        " 'ACTTGA\\n',\n",
        " 'ACTCCA\\n',\n",
        " 'ACTTCGG\\n',\n",
        " 'ACTTCGGA\\n',\n",
        " 'ACTTCA\\n']"
       ]
      }
     ],
     "prompt_number": 11
    },
    {
     "cell_type": "code",
     "collapsed": false,
     "input": [
      "range(1)"
     ],
     "language": "python",
     "metadata": {},
     "outputs": [
      {
       "metadata": {},
       "output_type": "pyout",
       "prompt_number": 12,
       "text": [
        "[0]"
       ]
      }
     ],
     "prompt_number": 12
    }
   ],
   "metadata": {}
  }
 ]
}